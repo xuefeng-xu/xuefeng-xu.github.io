{
  "cells": [
    {
      "cell_type": "markdown",
      "metadata": {},
      "source": [
        "# Power Transform\n",
        "\n",
        "Xuefeng Xu  \n",
        "2025-04-14\n",
        "\n",
        "Power transforms are parametric methods that convert data into a\n",
        "Gaussian-like distribution. Two widely used transformations in this\n",
        "category are the Box-Cox (Box and Cox 1964) and Yeo-Johnson (I. Yeo and\n",
        "Johnson 2000) methods, both of which rely on a single parameter\n",
        "$\\lambda$.\n",
        "\n",
        "## 1 Two Transformations\n",
        "\n",
        "The Box-Cox transformation requires strictly positive data ($x > 0$) and\n",
        "is defined as:\n",
        "\n",
        "<span id=\"eq-box-cox\">$$\n",
        "\\psi_{\\text{BC}}(\\lambda, x) =\n",
        "\\begin{cases}\n",
        "\\frac{x^\\lambda-1}{\\lambda} & \\text{if } \\lambda\\neq0,\\\\\n",
        "\\ln x & \\text{if } \\lambda=0.\n",
        "\\end{cases}\n",
        " \\qquad(1)$$</span>\n",
        "\n",
        "The Yeo-Johnson transformation generalizes Box-Cox to handle\n",
        "non-positive values and is defined as:\n",
        "\n",
        "<span id=\"eq-yeo-johnson\">$$\n",
        "\\psi_{\\text{YJ}}(\\lambda, x) =\n",
        "\\begin{cases}\n",
        "\\frac{(x+1)^\\lambda-1}{\\lambda} & \\text{if } \\lambda\\neq0,x\\ge0,\\\\\n",
        "\\ln(x+1) & \\text{if } \\lambda=0,x\\ge0,\\\\\n",
        "-\\frac{(-x+1)^{2-\\lambda}-1}{2-\\lambda} & \\text{if } \\lambda\\neq2,x<0,\\\\\n",
        "-\\ln(-x+1) & \\text{if } \\lambda=2,x<0.\\\\\n",
        "\\end{cases}\n",
        " \\qquad(2)$$</span>\n",
        "\n",
        "<a href=\"#fig-power-transform\" class=\"quarto-xref\">Figure 1</a>\n",
        "visualizes these transformations across various $\\lambda$ values."
      ],
      "id": "39e8b113-a845-4614-97c0-d87050036894"
    },
    {
      "cell_type": "code",
      "execution_count": 1,
      "metadata": {},
      "outputs": [],
      "source": [
        "import numpy as np\n",
        "from scipy.special import boxcox\n",
        "from scipy.stats import yeojohnson\n",
        "import matplotlib.pyplot as plt\n",
        "\n",
        "def power_plot(x_min, x_max, power, figsize):\n",
        "    if power == \"BC\":\n",
        "        power_func = boxcox\n",
        "    else:\n",
        "        power_func = yeojohnson\n",
        "\n",
        "    eps = 0.01\n",
        "    x = np.arange(x_min, x_max, eps)\n",
        "\n",
        "    fig, ax = plt.subplots(figsize=figsize)\n",
        "    line_color = ['dodgerblue', 'limegreen', 'red', 'mediumpurple', 'orange']\n",
        "    for idx, lmb in enumerate([3, 2, 1, 0, -1]):\n",
        "        y = power_func(x, lmb)\n",
        "        ax.plot(x, y, label=fr'$\\lambda$={lmb}', color=line_color[idx])\n",
        "    \n",
        "    ax.set_xlabel(r'$x$')\n",
        "    if power == \"BC\":\n",
        "        ax.set_ylabel(r'$\\psi_{\\text{BC}}(\\lambda, x)$')\n",
        "    else:\n",
        "        ax.set_ylabel(r'$\\psi_{\\text{YJ}}(\\lambda, x)$')\n",
        "\n",
        "    ax.set_xlim(x_min, x_max)\n",
        "    ax.set_ylim(-4, 4)\n",
        "\n",
        "    ax.yaxis.set_ticks(list(np.arange(-4, 5, 2)))\n",
        "    ax.get_yticklabels()[2].set(color=\"red\")\n",
        "    ax.xaxis.set_ticks(list(np.arange(x_min, x_max + 1)))\n",
        "    if power == \"BC\":\n",
        "        ax.get_xticklabels()[1].set(color=\"red\")\n",
        "    else:\n",
        "        ax.get_xticklabels()[2].set(color=\"red\")\n",
        "\n",
        "    ax.axhline(0, linestyle='--', color='k')\n",
        "    if power == \"BC\":\n",
        "        ax.axvline(1, linestyle='--', color='k')\n",
        "    else:\n",
        "        ax.axvline(0, linestyle='--', color='k')\n",
        "\n",
        "    ax.grid()\n",
        "    ax.set_aspect(0.5)\n",
        "\n",
        "    leg = ax.legend(loc='lower right')\n",
        "    leg.get_texts()[2].set(color=\"red\")\n",
        "\n",
        "    plt.show()"
      ],
      "id": "7b237b6f"
    },
    {
      "cell_type": "markdown",
      "metadata": {},
      "source": [
        "``` python\n",
        "power_plot(x_min=0, x_max=3, power=\"BC\", figsize=(2.5, 3))\n",
        "power_plot(x_min=-2, x_max=2, power=\"YJ\", figsize=(3, 3))\n",
        "```\n",
        "\n",
        "<table>\n",
        "<colgroup>\n",
        "<col style=\"width: 50%\" />\n",
        "<col style=\"width: 50%\" />\n",
        "</colgroup>\n",
        "<tbody>\n",
        "<tr>\n",
        "<td style=\"text-align: left;\"><div id=\"cell-fig-box-cox\" class=\"cell\"\n",
        "data-execution_count=\"2\" width=\"50.0%\" data-layout-align=\"left\">\n",
        "<div class=\"cell-output cell-output-display\">\n",
        "<figure id=\"fig-box-cox\">\n",
        "<img\n",
        "src=\"attachment:power-transform_files/figure-ipynb/fig-box-cox-output-1.png\" />\n",
        "<figcaption>(a) Box-Cox</figcaption>\n",
        "</figure>\n",
        "</div>\n",
        "</div></td>\n",
        "<td style=\"text-align: left;\"><div class=\"preview-image\" width=\"50.0%\"\n",
        "data-layout-align=\"left\">\n",
        "<div id=\"cell-fig-yeo-johnson\" class=\"cell\" data-execution_count=\"3\">\n",
        "<div class=\"cell-output cell-output-display\">\n",
        "<figure id=\"fig-yeo-johnson\">\n",
        "<img\n",
        "src=\"attachment:power-transform_files/figure-ipynb/fig-yeo-johnson-output-1.png\" />\n",
        "<figcaption>(b) Yeo-Johnson</figcaption>\n",
        "</figure>\n",
        "</div>\n",
        "</div>\n",
        "</div></td>\n",
        "</tr>\n",
        "</tbody>\n",
        "</table>\n",
        "\n",
        "Figure 1: Box-Cox and Yeo-Johnson transformations.\n",
        "\n",
        "The optimal $\\lambda$ is typically estimated by maximizing the\n",
        "log-likelihood. For Box-Cox and Yeo-Johnson, the respective\n",
        "log-likelihood functions are:\n",
        "\n",
        "<span id=\"eq-box-cox-llf\">$$\n",
        "\\ln\\mathcal{L}_{\\text{BC}}(\\lambda, x)=(\\lambda-1) \\sum_i^n \\ln x_i - \\frac{n}{2}\\ln\\sigma^2_{\\psi_{\\text{BC}}}\n",
        " \\qquad(3)$$</span>\n",
        "\n",
        "<span id=\"eq-yeo-johnson-llf\">$$\n",
        "\\ln\\mathcal{L}_{\\text{YJ}}(\\lambda, x)=(\\lambda-1) \\sum_i^n \\text{sgn} (x_i) \\ln(|x_i|+1) - \\frac{n}{2}\\ln\\sigma^2_{\\psi_{\\text{YJ}}}\n",
        " \\qquad(4)$$</span>\n",
        "\n",
        "Here, $\\sigma^2_\\psi$ represents the variance of the transformed data,\n",
        "$\\text{Var}[\\psi(\\lambda,x)]$. These log-likelihood functions are\n",
        "concave (Kouider and Chen 1995; Marchand et al. 2022), which guarantees\n",
        "a unique maximum. Brent’s method (Brent 2013) is commonly employed for\n",
        "optimization."
      ],
      "attachments": {
        "power-transform_files/figure-ipynb/fig-box-cox-output-1.png": {
          "image/png": "[encoded data removed]"
        },
        "power-transform_files/figure-ipynb/fig-yeo-johnson-output-1.png": {
          "image/png": "[encoded data removed]"
        }
      },
      "id": "61025913-cd3f-4ddf-af4c-bec1668c8d58"
    },
    {
      "cell_type": "code",
      "execution_count": 4,
      "metadata": {},
      "outputs": [],
      "source": [
        "from scipy.optimize import brent\n",
        "\n",
        "def max_llf(x, llf):\n",
        "    def _neg_llf(lmb, x):\n",
        "        return -llf(lmb, x)\n",
        "    return brent(_neg_llf, args=(x,))"
      ],
      "id": "ce88a168"
    },
    {
      "cell_type": "markdown",
      "metadata": {},
      "source": [
        "## 2 Numerical Instabilities\n",
        "\n",
        "Because both transformations involve exponentiation, they are\n",
        "susceptible to numerical overflow. This problem has been observed by\n",
        "(Marchand et al. 2022) and discussed in [Scikit-learn’s GitHub\n",
        "Issue](https://github.com/scikit-learn/scikit-learn/issues/23319). Below\n",
        "is an example illustrating the problem using a naive implementation of\n",
        "<a href=\"#eq-box-cox-llf\" class=\"quarto-xref\">Equation 3</a>:"
      ],
      "id": "98974a03-857f-4186-92dc-cff5edb2aacc"
    },
    {
      "cell_type": "code",
      "execution_count": 5,
      "metadata": {},
      "outputs": [],
      "source": [
        "def boxcox_llf_naive(lmb, x):\n",
        "    n = len(x)\n",
        "    logx = np.log(x)\n",
        "    logvar = np.log(np.var(boxcox(x, lmb)))\n",
        "    return (lmb - 1) * np.sum(logx) - n/2 * logvar"
      ],
      "id": "d74ae783"
    },
    {
      "cell_type": "code",
      "execution_count": 6,
      "metadata": {},
      "outputs": [
        {
          "output_type": "stream",
          "name": "stdout",
          "text": [
            "156.48528753755807"
          ]
        },
        {
          "output_type": "stream",
          "name": "stderr",
          "text": [
            "/opt/miniconda3/lib/python3.12/site-packages/numpy/_core/_methods.py:194: RuntimeWarning:\n",
            "\n",
            "overflow encountered in multiply\n",
            "\n",
            "/opt/miniconda3/lib/python3.12/site-packages/numpy/_core/_methods.py:205: RuntimeWarning:\n",
            "\n",
            "overflow encountered in reduce\n"
          ]
        }
      ],
      "source": [
        "x = np.array([10, 10, 10, 9.9])\n",
        "print(max_llf(x, llf=boxcox_llf_naive))"
      ],
      "id": "5598da7b"
    },
    {
      "cell_type": "markdown",
      "metadata": {},
      "source": [
        "Although this returns a $\\lambda$ value, it produces overflow warnings.\n",
        "A useful diagnostic is to visualize the log-likelihood curve:"
      ],
      "id": "59d1b647-3731-4172-a1e4-6a2b27015ebe"
    },
    {
      "cell_type": "code",
      "execution_count": 7,
      "metadata": {},
      "outputs": [],
      "source": [
        "def plot_llf(x, lb, ub, llf):\n",
        "    np.set_printoptions(precision=3)\n",
        "    lmb = np.linspace(lb, ub, 20)\n",
        "    ll = np.array([llf(l, x) for l in lmb])\n",
        "    print(f\"llf={ll}\")\n",
        "\n",
        "    fig, ax = plt.subplots(figsize=(3, 3))\n",
        "    ax.plot(lmb, ll)\n",
        "    ax.set_xlabel(r\"$\\lambda$\")\n",
        "    ax.set_ylabel(r\"$\\ln\\mathcal{L}(\\lambda, x)$\")\n",
        "    plt.show()"
      ],
      "id": "72a06989"
    },
    {
      "cell_type": "code",
      "execution_count": 8,
      "metadata": {},
      "outputs": [
        {
          "output_type": "stream",
          "name": "stdout",
          "text": [
            "llf=[13.684 13.697 13.711   -inf   -inf   -inf   -inf   -inf   -inf   -inf\n",
            "   -inf   -inf   -inf   -inf   -inf   -inf   -inf   -inf   -inf   -inf]"
          ]
        },
        {
          "output_type": "display_data",
          "metadata": {},
          "data": {
            "image/png": "[encoded data removed]"
          }
        }
      ],
      "source": [
        "plot_llf(x, lb=150, ub=200, llf=boxcox_llf_naive)"
      ],
      "id": "a20b2e85"
    },
    {
      "cell_type": "markdown",
      "metadata": {},
      "source": [
        "Unfortunately, due to overflow (`np.inf` values), the log-likelihood\n",
        "curve cannot be visualized in the specified range, suggesting the\n",
        "returned $\\lambda$ is not optimal.\n",
        "\n",
        "## 3 Existing Solutions\n",
        "\n",
        "The MASS package in R (Venables and Ripley 2002) proposes a simple yet\n",
        "effective trick: divide the data by its mean. This rescales the data and\n",
        "avoids numerical instability without affecting the optimization outcome."
      ],
      "id": "d3125ba4-cd40-496f-b648-12cc3f76c05c"
    },
    {
      "cell_type": "code",
      "execution_count": 9,
      "metadata": {},
      "outputs": [
        {
          "output_type": "stream",
          "name": "stdout",
          "text": [
            "357.55141884289054"
          ]
        }
      ],
      "source": [
        "x_dm = x / np.mean(x)\n",
        "print(max_llf(x_dm, llf=boxcox_llf_naive))"
      ],
      "id": "64ec443b"
    },
    {
      "cell_type": "code",
      "execution_count": 10,
      "metadata": {},
      "outputs": [
        {
          "output_type": "stream",
          "name": "stdout",
          "text": [
            "llf=[23.376 23.377 23.378 23.38  23.381 23.381 23.382 23.383 23.383 23.383\n",
            " 23.383 23.383 23.383 23.382 23.382 23.381 23.38  23.379 23.377 23.376]"
          ]
        },
        {
          "output_type": "display_data",
          "metadata": {},
          "data": {
            "image/png": "[encoded data removed]"
          }
        }
      ],
      "source": [
        "plot_llf(x_dm, lb=330, ub=385, llf=boxcox_llf_naive)"
      ],
      "id": "86a7ce7c"
    },
    {
      "cell_type": "markdown",
      "metadata": {},
      "source": [
        "To see why this works, consider the log-variance term for\n",
        "$\\lambda \\ne 0$:\n",
        "\n",
        "<span id=\"eq-boxcox-log-var\">$$\n",
        "\\begin{align*}\n",
        "\\ln\\text{Var}[\\psi_{\\text{BC}}(\\lambda,x)]\n",
        "&=\\ln\\text{Var}[(x^\\lambda-1)/\\lambda] \\\\\n",
        "&=\\ln\\text{Var}[x^\\lambda/\\lambda] \\\\\n",
        "&=\\ln[\\text{Var}(x^\\lambda)/\\lambda^2] \\\\\n",
        "&=\\ln\\text{Var}(x^\\lambda) - 2\\ln|\\lambda| \\\\\n",
        "\\end{align*}\n",
        " \\qquad(5)$$</span>\n",
        "\n",
        "If $x$ is scaled by a constant $c > 0$:\n",
        "\n",
        "<span id=\"eq-boxcox-log-var-mass\">$$\n",
        "\\begin{align*}\n",
        "\\ln\\text{Var}[\\psi_{\\text{BC}}(\\lambda,x/c)]\n",
        "&=\\ln\\text{Var}[(x/c)^\\lambda] - 2\\ln|\\lambda| \\\\\n",
        "&=\\ln[\\text{Var}(x^\\lambda)/c^{2\\lambda}] - 2\\ln|\\lambda| \\\\\n",
        "&=\\ln\\text{Var}(x^\\lambda) - 2\\lambda\\ln c  - 2\\ln|\\lambda| \\\\\n",
        "&=\\ln\\text{Var}[\\psi_{\\text{BC}}(\\lambda,x)] - 2\\lambda\\ln c \\\\\n",
        "\\end{align*}\n",
        " \\qquad(6)$$</span>\n",
        "\n",
        "Plugging into the log−likelihood:\n",
        "\n",
        "<span id=\"eq-boxcox-llf-mass\">$$\n",
        "\\begin{align*}\n",
        "\\ln\\mathcal{L}_{\\text{BC}}(\\lambda, x/c)\n",
        "&=(\\lambda-1) \\sum_i^n \\ln(x_i/c) - \\frac{n}{2}\\ln\\text{Var}[\\psi_{\\text{BC}}(\\lambda,x/c)] \\\\\n",
        "&=\\ln\\mathcal{L}_{\\text{BC}}(\\lambda, x) - n(\\lambda-1)\\ln c + n\\lambda\\ln c \\\\\n",
        "&=\\ln\\mathcal{L}_{\\text{BC}}(\\lambda, x) + n\\ln c \\\\\n",
        "\\end{align*}\n",
        " \\qquad(7)$$</span>\n",
        "\n",
        "The additive constant $n\\ln c$ does not affect the maximizer of\n",
        "$\\lambda$. However, this trick does not apply to Yeo-Johnson, where\n",
        "scaling alters the optimal parameter (see\n",
        "<a href=\"#eq-yeo-johnson-llf\" class=\"quarto-xref\">Equation 4</a>).\n",
        "\n",
        "## 4 Log-Space Computation\n",
        "\n",
        "To address numerical instability for both transformations, log-space\n",
        "computation (Haberland 2023) is effective. It uses the [Log-Sum-Exp\n",
        "trick](https://en.wikipedia.org/wiki/LogSumExp) to compute statistics in\n",
        "log space:"
      ],
      "id": "66536bbc-d4c0-4079-ae1e-a4f8e6de74d5"
    },
    {
      "cell_type": "code",
      "execution_count": 11,
      "metadata": {},
      "outputs": [],
      "source": [
        "from scipy.special import logsumexp\n",
        "\n",
        "def log_mean(logx):\n",
        "    # compute log of mean of x from log(x)\n",
        "    return logsumexp(logx) - np.log(len(logx))\n",
        "\n",
        "def log_var(logx):\n",
        "    # compute log of variance of x from log(x)\n",
        "    logmean = log_mean(logx)\n",
        "    pij = np.full_like(logx, np.pi * 1j, dtype=np.complex128)\n",
        "    logxmu = logsumexp([logx, logmean + pij], axis=0)\n",
        "    return np.real(logsumexp(2 * logxmu)) - np.log(len(logx))"
      ],
      "id": "928e5ca3"
    },
    {
      "cell_type": "markdown",
      "metadata": {},
      "source": [
        "This allows direct computation of $\\ln\\sigma^2_\\psi$ from $\\ln x$.\n",
        "Plugging in\n",
        "<a href=\"#eq-boxcox-log-var\" class=\"quarto-xref\">Equation 5</a>, we can\n",
        "compute the log-likelihood in the log-space."
      ],
      "id": "6a9152df-b2b8-4b79-b7d2-650679444fee"
    },
    {
      "cell_type": "code",
      "execution_count": 12,
      "metadata": {},
      "outputs": [],
      "source": [
        "def boxcox_llf(lmb, x):\n",
        "    n = len(x)\n",
        "    logx = np.log(x)\n",
        "    if lmb == 0:\n",
        "        logvar = np.log(np.var(logx))\n",
        "    else:\n",
        "        logvar = log_var(lmb * logx) - 2 * np.log(abs(lmb))\n",
        "    return (lmb - 1) * np.sum(logx) - n/2 * logvar"
      ],
      "id": "23409612"
    },
    {
      "cell_type": "markdown",
      "metadata": {},
      "source": [
        "This version avoids overflow and reliably returns the optimal $\\lambda$."
      ],
      "id": "bbd1aa47-0a65-4fe9-94ff-37f95a92e86f"
    },
    {
      "cell_type": "code",
      "execution_count": 13,
      "metadata": {},
      "outputs": [
        {
          "output_type": "stream",
          "name": "stdout",
          "text": [
            "357.55141245531865"
          ]
        }
      ],
      "source": [
        "print(max_llf(x, llf=boxcox_llf))"
      ],
      "id": "13282bf4"
    },
    {
      "cell_type": "code",
      "execution_count": 14,
      "metadata": {},
      "outputs": [
        {
          "output_type": "stream",
          "name": "stdout",
          "text": [
            "llf=[14.175 14.177 14.178 14.179 14.18  14.181 14.182 14.182 14.183 14.183\n",
            " 14.183 14.183 14.182 14.182 14.181 14.18  14.179 14.178 14.177 14.176]"
          ]
        },
        {
          "output_type": "display_data",
          "metadata": {},
          "data": {
            "image/png": "[encoded data removed]"
          }
        }
      ],
      "source": [
        "plot_llf(x, lb=330, ub=385, llf=boxcox_llf)"
      ],
      "id": "75ad4d6f"
    },
    {
      "cell_type": "markdown",
      "metadata": {},
      "source": [
        "The same principle extends to Yeo-Johnson, even for mixed-sign inputs."
      ],
      "id": "1729592f-44bf-4d44-97ef-c66d7d183982"
    },
    {
      "cell_type": "code",
      "execution_count": 15,
      "metadata": {},
      "outputs": [],
      "source": [
        "def log_var_yeojohnson(x, lmb):\n",
        "    if np.all(x >= 0):\n",
        "        if abs(lmb) < np.spacing(1.0):\n",
        "            return np.log(np.var(np.log1p(x)))\n",
        "        return log_var(lmb * np.log1p(x)) - 2 * np.log(abs(lmb))\n",
        "\n",
        "    elif np.all(x < 0):\n",
        "        if abs(lmb - 2) < np.spacing(1.0):\n",
        "            return np.log(np.var(np.log1p(-x)))\n",
        "        return log_var((2 - lmb) * np.log1p(-x)) - 2 * np.log(abs(2 - lmb))\n",
        "\n",
        "    else:  # mixed positive and negtive data\n",
        "        logyj = np.zeros_like(x, dtype=np.complex128)\n",
        "        pos = x >= 0\n",
        "\n",
        "        # when x >= 0\n",
        "        if abs(lmb) < np.spacing(1.0):\n",
        "            logyj[pos] = np.log(np.log1p(x[pos]) + 0j)\n",
        "        else:  # lmbda != 0\n",
        "            logm1_pos = np.full_like(x[pos], np.pi * 1j, dtype=np.complex128)\n",
        "            logyj[pos] = logsumexp(\n",
        "                [lmb * np.log1p(x[pos]), logm1_pos], axis=0\n",
        "            ) - np.log(lmb + 0j)\n",
        "\n",
        "        # when x < 0\n",
        "        if abs(lmb - 2) < np.spacing(1.0):\n",
        "            logyj[~pos] = np.log(-np.log1p(-x[~pos]) + 0j)\n",
        "        else:  # lmbda != 2\n",
        "            logm1_neg = np.full_like(x[~pos], np.pi * 1j, dtype=np.complex128)\n",
        "            logyj[~pos] = logsumexp(\n",
        "                [(2 - lmb) * np.log1p(-x[~pos]), logm1_neg], axis=0\n",
        "            ) - np.log(lmb - 2 + 0j)\n",
        "\n",
        "        return log_var(logyj)\n",
        "\n",
        "def yeojohnson_llf(lmb, x):\n",
        "    n = len(x)\n",
        "    llf = (lmb - 1) * np.sum(np.sign(x) * np.log1p(np.abs(x)))\n",
        "    llf += -n / 2 * log_var_yeojohnson(x, lmb)\n",
        "    return llf"
      ],
      "id": "3876b295"
    },
    {
      "cell_type": "markdown",
      "metadata": {},
      "source": [
        "## 5 Constrained Optimization\n",
        "\n",
        "Even with log-space computation, applying the transformation using a\n",
        "large absolute value of $\\lambda$ can result in overflow:"
      ],
      "id": "15fd89e4-79eb-40e6-a405-fc581411d57e"
    },
    {
      "cell_type": "code",
      "execution_count": 16,
      "metadata": {},
      "outputs": [
        {
          "output_type": "stream",
          "name": "stdout",
          "text": [
            "[inf inf inf inf]"
          ]
        }
      ],
      "source": [
        "lmax = max_llf(x, llf=boxcox_llf)\n",
        "print(boxcox(x, lmax))"
      ],
      "id": "497bc206"
    },
    {
      "cell_type": "markdown",
      "metadata": {},
      "source": [
        "To prevent this, we constrain $\\lambda$ so that the transformed values\n",
        "stay within a safe range.\n",
        "\n",
        "<span class=\"theorem-title\">**Lemma 1**</span> The transformation\n",
        "$\\psi(\\lambda,x)$ is monotonically increasing in both $\\lambda$ and $x$\n",
        "(see I.-K. Yeo 1997 for Yeo-Johnson proof).\n",
        "\n",
        "This allows us to bound $\\lambda$ based on $\\min(x)$ and $\\max(x)$. For\n",
        "Box-Cox, we use $x=1$ as a threshold since\n",
        "$\\psi_\\text{BC}(\\lambda,1)=0$:\n",
        "\n",
        "<span id=\"eq-boxcox-constraint\">$$\n",
        "\\begin{align*}\n",
        "\\max_\\lambda \\quad & \\ln\\mathcal{L}_{\\text{BC}}(\\lambda, x) \\\\\n",
        "\\textrm{s.t.} \\quad & \\lambda\\le\\psi^{-1}_{\\text{BC}}(x_{\\max},y_{\\max}) & \\text{if } x_{\\max}>1 \\\\\n",
        "& \\lambda\\ge\\psi^{-1}_{\\text{BC}}(x_{\\min},-y_{\\max}) & \\text{if } x_{\\min}<1 \\\\\n",
        "\\end{align*}\n",
        " \\qquad(8)$$</span>\n",
        "\n",
        "The inverse Box−Cox function is given by:\n",
        "\n",
        "<span id=\"eq-boxcox-inverse\">$$\n",
        "\\psi^{-1}_{\\text{BC}}(x,y)=\n",
        "-\\tfrac{1}{y}-\\tfrac{1}{\\ln x}W\\left(-\\tfrac{x^{-1/y}\\ln x}{y}\\right)\n",
        " \\qquad(9)$$</span>"
      ],
      "id": "193a9d0d-2897-4ea4-b27b-db98a6bb67a2"
    },
    {
      "cell_type": "code",
      "execution_count": 17,
      "metadata": {},
      "outputs": [],
      "source": [
        "from scipy.special import lambertw\n",
        "\n",
        "def boxcox_inv_lmbda(x, y):\n",
        "    num = lambertw(-(x ** (-1 / y)) * np.log(x) / y, k=-1)\n",
        "    return -1 / y - np.real(num / np.log(x))"
      ],
      "id": "6d178293"
    },
    {
      "cell_type": "code",
      "execution_count": 18,
      "metadata": {},
      "outputs": [],
      "source": [
        "def boxcox_constranined_lmax(lmax, x, ymax):\n",
        "    # x > 1, boxcox(x) > 0; x < 1, boxcox(x) < 0\n",
        "    xmin, xmax = min(x), max(x)\n",
        "    if xmin >= 1:\n",
        "        x_treme = xmax\n",
        "    elif xmax <= 1:\n",
        "        x_treme = xmin\n",
        "    else:  # xmin < 1 < xmax\n",
        "        indicator = boxcox(xmax, lmax) > abs(boxcox(xmin, lmax))\n",
        "        x_treme = xmax if indicator else xmin\n",
        "    \n",
        "    if abs(boxcox(x_treme, lmax)) > ymax:\n",
        "        lmax = boxcox_inv_lmbda(x_treme, ymax * np.sign(x_treme - 1))\n",
        "    return lmax"
      ],
      "id": "137f7349"
    },
    {
      "cell_type": "markdown",
      "metadata": {},
      "source": [
        "This method can be verified by testing different values for $y_{\\max}$:"
      ],
      "id": "ec3233ac-b783-44aa-946b-9669e69d6764"
    },
    {
      "cell_type": "code",
      "execution_count": 19,
      "metadata": {},
      "outputs": [],
      "source": [
        "def verify_boxcox_constranined_lmax(x):\n",
        "    np.set_printoptions(precision=3)\n",
        "    lmax = max_llf(x, llf=boxcox_llf)\n",
        "    for ymax in [1e300, 1e100, 1e30, 1e10]:\n",
        "        l = boxcox_constranined_lmax(lmax, x, ymax)\n",
        "        print(boxcox(x, l))"
      ],
      "id": "e8441c9e"
    },
    {
      "cell_type": "code",
      "execution_count": 20,
      "metadata": {},
      "outputs": [
        {
          "output_type": "stream",
          "name": "stdout",
          "text": [
            "[1.000e+300 1.000e+300 1.000e+300 4.783e+298]\n",
            "[1.000e+100 1.000e+100 1.000e+100 3.587e+099]\n",
            "[1.000e+30 1.000e+30 1.000e+30 7.286e+29]\n",
            "[1.00e+10 1.00e+10 1.00e+10 8.95e+09]"
          ]
        }
      ],
      "source": [
        "# Positive overflow\n",
        "x = np.array([10, 10, 10, 9.9])\n",
        "verify_boxcox_constranined_lmax(x)"
      ],
      "id": "0a1819a2"
    },
    {
      "cell_type": "code",
      "execution_count": 21,
      "metadata": {},
      "outputs": [
        {
          "output_type": "stream",
          "name": "stdout",
          "text": [
            "[-1.00e+300 -1.00e+300 -1.00e+300 -4.93e+298]\n",
            "[-1.000e+100 -1.000e+100 -1.000e+100 -3.624e+099]\n",
            "[-1.000e+30 -1.000e+30 -1.000e+30 -7.309e+29]\n",
            "[-1.000e+10 -1.000e+10 -1.000e+10 -8.959e+09]"
          ]
        }
      ],
      "source": [
        "# Negative overflow\n",
        "x = np.array([0.1, 0.1, 0.1, 0.101])\n",
        "verify_boxcox_constranined_lmax(x)"
      ],
      "id": "d4cea5c9"
    },
    {
      "cell_type": "markdown",
      "metadata": {},
      "source": [
        "The constrained optimization approach can also be extended to\n",
        "Yeo-Johnson, ensures overflow-free transformations even for extreme\n",
        "values."
      ],
      "id": "12f538eb-fa51-460e-89aa-b6a57852aae1"
    },
    {
      "cell_type": "code",
      "execution_count": 22,
      "metadata": {},
      "outputs": [],
      "source": [
        "def yeojohnson_inv_lmbda(x, y):\n",
        "    if x >= 0:\n",
        "        num = lambertw(-((x + 1) ** (-1 / y) * np.log1p(x)) / y, k=-1)\n",
        "        return -1 / y + np.real(-num / np.log1p(x))\n",
        "    else:\n",
        "        num = lambertw(((1 - x) ** (1 / y) * np.log1p(-x)) / y, k=-1)\n",
        "        return -1 / y + 2 + np.real(num / np.log1p(-x))\n",
        "\n",
        "def yeojohnson_constranined_lmax(lmax, x, ymax):\n",
        "    # x > 0, yeojohnson(x) > 0; x < 0, yeojohnson(x) < 0\n",
        "    xmin, xmax = min(x), max(x)\n",
        "    if xmin >= 0:\n",
        "        x_treme = xmax\n",
        "    elif xmax <= 0:\n",
        "        x_treme = xmin\n",
        "    else:  # xmin < 0 < xmax\n",
        "        with np.errstate(over=\"ignore\"):\n",
        "            indicator = yeojohnson(xmax, lmax) > abs(yeojohnson(xmin, lmax))\n",
        "        x_treme = xmax if indicator else xmin\n",
        "\n",
        "    with np.errstate(over=\"ignore\"):\n",
        "        if abs(yeojohnson(x_treme, lmax)) > ymax:\n",
        "            lmax = yeojohnson_inv_lmbda(x_treme, ymax * np.sign(x_treme))\n",
        "    return lmax"
      ],
      "id": "58f0ac42"
    },
    {
      "cell_type": "markdown",
      "metadata": {},
      "source": [
        "Box, G. E. P., and D. R. Cox. 1964. “An Analysis of Transformations.”\n",
        "*Journal of the Royal Statistical Society: Series B (Methodological)* 26\n",
        "(2): 211–43. <https://doi.org/10.1111/j.2517-6161.1964.tb00553.x>.\n",
        "\n",
        "Brent, Richard P. 2013. *Algorithms for Minimization Without\n",
        "Derivatives*. Dover Books on Mathematics. Dover Publications,\n",
        "Incorporated.\n",
        "\n",
        "Haberland, Matt. 2023.\n",
        "<https://github.com/scipy/scipy/pull/18852#issuecomment-1657858886>.\n",
        "\n",
        "Kouider, Elies, and Hanfeng Chen. 1995. “Concavity of Box-Cox\n",
        "Log-Likelihood Function.” *Statistics & Probability Letters* 25 (2):\n",
        "171–75. <https://doi.org/10.1016/0167-7152(94)00219-X>.\n",
        "\n",
        "Marchand, Tanguy, Boris Muzellec, Constance Béguier, Jean Ogier du\n",
        "Terrail, and Mathieu Andreux. 2022. “SecureFedYJ: A Safe Feature\n",
        "Gaussianization Protocol for Federated Learning.” In *Advances in Neural\n",
        "Information Processing Systems*, 35:36585–98. Curran Associates, Inc.\n",
        "<https://doi.org/10.48550/arXiv.2210.01639>.\n",
        "\n",
        "Venables, W. N., and B. D. Ripley. 2002. *Modern Applied Statistics with\n",
        "s*. Fourth. New York: Springer.\n",
        "<https://doi.org/10.32614/CRAN.package.MASS>.\n",
        "\n",
        "Yeo, In-Kwon. 1997. “A New Family of Power Transformations to Reduce\n",
        "Skewness or Approximate Normality.” PhD thesis, The University of\n",
        "Wisconsin-Madison.\n",
        "<https://www.proquest.com/openview/b7835693052aecd65e635d39a6bd099a/>.\n",
        "\n",
        "Yeo, In‐Kwon, and Richard A. Johnson. 2000. “A New Family of Power\n",
        "Transformations to Improve Normality or Symmetry.” *Biometrika* 87 (4):\n",
        "954–59. <https://doi.org/10.1093/biomet/87.4.954>."
      ],
      "id": "17e42643-4e81-41c0-8d1c-48ddd400b190"
    }
  ],
  "nbformat": 4,
  "nbformat_minor": 5,
  "metadata": {
    "kernelspec": {
      "name": "python3",
      "display_name": "Python 3 (ipykernel)",
      "language": "python",
      "path": "/opt/miniconda3/share/jupyter/kernels/python3"
    },
    "language_info": {
      "name": "python",
      "codemirror_mode": {
        "name": "ipython",
        "version": "3"
      },
      "file_extension": ".py",
      "mimetype": "text/x-python",
      "nbconvert_exporter": "python",
      "pygments_lexer": "ipython3",
      "version": "3.12.2"
    }
  }
}