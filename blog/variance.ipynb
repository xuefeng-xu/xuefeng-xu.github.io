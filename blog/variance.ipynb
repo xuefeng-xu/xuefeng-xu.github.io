{
  "cells": [
    {
      "cell_type": "markdown",
      "metadata": {},
      "source": [
        "# How to Compute Variance?\n",
        "\n",
        "Xuefeng Xu  \n",
        "2025-10-03\n",
        "\n",
        "Given a dataset $\\{x_1, \\ldots, x_n\\}$, variance measures how much data\n",
        "points deviate from their mean. While the mathematical definition is\n",
        "straightforward, the way we implement variance can have a big impact on\n",
        "numerical stability.\n",
        "\n",
        "## 1 Textbook Formulas\n",
        "\n",
        "The most common definition computes the mean first, then the average\n",
        "squared deviation from it:\n",
        "\n",
        "<span id=\"eq-textbook-var-twopass\">$$\n",
        "\\mu = \\frac{1}{n} \\sum_{i=1}^n x_i,\\ \\sigma^2 = \\frac{1}{n} \\sum_{i=1}^n (x_i - \\mu)^2.\n",
        " \\qquad(1)$$</span>"
      ],
      "id": "de0a0660-5ada-4f92-b45c-6602a2b3c611"
    },
    {
      "cell_type": "code",
      "execution_count": 1,
      "metadata": {},
      "outputs": [],
      "source": [
        "def var_twopass_textbook(x):\n",
        "    n, s = 0, 0\n",
        "    for xi in x:\n",
        "        n += 1\n",
        "        s += xi\n",
        "\n",
        "    mu = s / n\n",
        "    sd = 0\n",
        "    for xi in x:\n",
        "        sd += (xi - mu) ** 2\n",
        "    return sd / n"
      ],
      "id": "0c605804"
    },
    {
      "cell_type": "markdown",
      "metadata": {},
      "source": [
        "This requires two passes over the data. For\n",
        "[streaming](https://en.wikipedia.org/wiki/Streaming_data) or\n",
        "memory-constrained scenarios, a one-pass formula is often considered:\n",
        "\n",
        "<span id=\"eq-textbook-var-onepass\">$$\n",
        "\\sigma^2 = \\frac{1}{n} \\sum_{i=1}^n x_i^2 - \\left(\\frac{1}{n} \\sum_{i=1}^n x_i\\right)^2.\n",
        " \\qquad(2)$$</span>"
      ],
      "id": "0f52e0b7-bef7-4c3a-ac6c-f6fca3110ca3"
    },
    {
      "cell_type": "code",
      "execution_count": 2,
      "metadata": {},
      "outputs": [],
      "source": [
        "def var_onepass_textbook(x):\n",
        "    n, s, sq = 0, 0, 0\n",
        "    for xi in x:\n",
        "        n += 1\n",
        "        s += xi\n",
        "        sq += xi ** 2\n",
        "    return sq / n - (s / n) ** 2"
      ],
      "id": "841c227c"
    },
    {
      "cell_type": "markdown",
      "metadata": {},
      "source": [
        "In exact arithmetic, these two formulas are identical. But in\n",
        "floating-point arithmetic, they can yield very different results.\n",
        "\n",
        "## 2 Numerical Cancellation\n",
        "\n",
        "Let’s test both formulas on a simple dataset:"
      ],
      "id": "58171203-a93c-4a06-b37b-f65476607c54"
    },
    {
      "cell_type": "code",
      "execution_count": 3,
      "metadata": {},
      "outputs": [
        {
          "output_type": "stream",
          "name": "stdout",
          "text": [
            "Two-pass (Textbook): 0.6666666666666666\n",
            "One-pass (Textbook): 0.6666666666666667"
          ]
        }
      ],
      "source": [
        "import numpy as np\n",
        "\n",
        "x = np.array([0., 1., 2.])\n",
        "print(\"Two-pass (Textbook):\", var_twopass_textbook(x))\n",
        "print(\"One-pass (Textbook):\", var_onepass_textbook(x))"
      ],
      "id": "5e73913f"
    },
    {
      "cell_type": "markdown",
      "metadata": {},
      "source": [
        "So far, so good. But if we shift all values by a large constant, the\n",
        "one-pass version quickly breaks down due to cancellation errors:"
      ],
      "id": "92e7e85a-f3e6-42da-954b-17ebf054fbc9"
    },
    {
      "cell_type": "code",
      "execution_count": 4,
      "metadata": {},
      "outputs": [
        {
          "output_type": "stream",
          "name": "stdout",
          "text": [
            "Shift: 1e+03\n",
            "Two-pass (Textbook): 0.6666666666666666\n",
            "One-pass (Textbook): 0.6666666666278616\n",
            "\n",
            "Shift: 1e+06\n",
            "Two-pass (Textbook): 0.6666666666666666\n",
            "One-pass (Textbook): 0.6666259765625\n",
            "\n",
            "Shift: 1e+09\n",
            "Two-pass (Textbook): 0.6666666666666666\n",
            "One-pass (Textbook): 0.0\n",
            "\n",
            "Shift: 1e+12\n",
            "Two-pass (Textbook): 0.6666666666666666\n",
            "One-pass (Textbook): -134217728.0\n"
          ]
        }
      ],
      "source": [
        "for shift in [1e3, 1e6, 1e9, 1e12]:\n",
        "    xt = x + shift\n",
        "    print(f\"Shift: {shift:.0e}\")\n",
        "    print(f\"Two-pass (Textbook): {var_twopass_textbook(xt)}\")\n",
        "    print(f\"One-pass (Textbook): {var_onepass_textbook(xt)}\\n\")"
      ],
      "id": "4ef74bda"
    },
    {
      "cell_type": "code",
      "execution_count": 5,
      "metadata": {},
      "outputs": [],
      "source": [
        "import matplotlib.pyplot as plt\n",
        "\n",
        "def plot_errors(x, var_func, error_type=\"absolute\"):\n",
        "    ref = np.var(x)\n",
        "    shifts = [10**i for i in range(0, 20)]\n",
        "\n",
        "    errors = []\n",
        "    for shift in shifts:\n",
        "        xt = x + shift\n",
        "        var = var_func(xt)\n",
        "\n",
        "        if error_type == \"absolute\":\n",
        "            errors.append(abs(var - ref))\n",
        "        elif error_type == \"relative\":\n",
        "            errors.append(abs(var - ref) / abs(ref))\n",
        "\n",
        "    fig, ax = plt.subplots(figsize=(3, 3))\n",
        "    ax.loglog(shifts, errors, \"*-r\")\n",
        "    ax.set_xlabel(\"Shift value\")\n",
        "    ax.set_ylabel(f\"{error_type.capitalize()} error\")\n",
        "    ax.set_title(f\"{var_func.__name__}\")\n",
        "    ax.grid()"
      ],
      "id": "abfadeb8"
    },
    {
      "cell_type": "markdown",
      "metadata": {},
      "source": [
        "``` python\n",
        "plot_errors(x, var_onepass_textbook, error_type=\"absolute\")\n",
        "plot_errors(x, var_onepass_textbook, error_type=\"relative\")\n",
        "```\n",
        "\n",
        "<table>\n",
        "<colgroup>\n",
        "<col style=\"width: 50%\" />\n",
        "<col style=\"width: 50%\" />\n",
        "</colgroup>\n",
        "<tbody>\n",
        "<tr>\n",
        "<td style=\"text-align: left;\"><div id=\"cell-fig-abs-error\" class=\"cell\"\n",
        "data-execution_count=\"6\" width=\"50.0%\" data-layout-align=\"left\">\n",
        "<div class=\"cell-output cell-output-display\">\n",
        "<figure id=\"fig-abs-error\">\n",
        "<img\n",
        "src=\"attachment:variance_files/figure-ipynb/fig-abs-error-output-1.png\" />\n",
        "<figcaption>(a) Absolute error</figcaption>\n",
        "</figure>\n",
        "</div>\n",
        "</div></td>\n",
        "<td style=\"text-align: left;\"><div class=\"preview-image\" width=\"50.0%\"\n",
        "data-layout-align=\"left\">\n",
        "<div id=\"cell-fig-rel-error\" class=\"cell\" data-execution_count=\"7\">\n",
        "<div class=\"cell-output cell-output-display\">\n",
        "<figure id=\"fig-rel-error\">\n",
        "<img\n",
        "src=\"attachment:variance_files/figure-ipynb/fig-rel-error-output-1.png\" />\n",
        "<figcaption>(b) Relative error</figcaption>\n",
        "</figure>\n",
        "</div>\n",
        "</div>\n",
        "</div></td>\n",
        "</tr>\n",
        "</tbody>\n",
        "</table>\n",
        "\n",
        "Figure 1: Error plots for the one-pass textbook formula.\n",
        "\n",
        "This instability makes the textbook one-pass formula unsuitable for\n",
        "real-world use.\n",
        "\n",
        "## 3 Floating Point Arithmetic\n",
        "\n",
        "Why does this happen? Because floating-point numbers can only represent\n",
        "a finite number of digits. Squaring a large number, for example, can\n",
        "lose precision:"
      ],
      "attachments": {
        "variance_files/figure-ipynb/fig-abs-error-output-1.png": {
          "image/png": "[encoded data removed]"
        },
        "variance_files/figure-ipynb/fig-rel-error-output-1.png": {
          "image/png": "[encoded data removed]"
        }
      },
      "id": "72034140-00ff-41f8-ae75-9c174956f455"
    },
    {
      "cell_type": "code",
      "execution_count": 8,
      "metadata": {},
      "outputs": [
        {
          "output_type": "display_data",
          "metadata": {},
          "data": {
            "text/plain": [
              "1.000000002e+18"
            ]
          }
        }
      ],
      "source": [
        "1000000001.0 ** 2\n",
        "# 1.000000002000000001e+18"
      ],
      "id": "5ca3dce0"
    },
    {
      "cell_type": "markdown",
      "metadata": {},
      "source": [
        "Moreover, floating point numbers cannot exactly represent all values,\n",
        "especially very large numbers, leading to rounding errors."
      ],
      "id": "0d9e43c6-c415-438f-8842-0906dc9cc763"
    },
    {
      "cell_type": "code",
      "execution_count": 9,
      "metadata": {},
      "outputs": [
        {
          "output_type": "display_data",
          "metadata": {},
          "data": {
            "text/plain": [
              "1.000000002e+18"
            ]
          }
        }
      ],
      "source": [
        "1000000002000000001.0"
      ],
      "id": "4c86d08d"
    },
    {
      "cell_type": "markdown",
      "metadata": {},
      "source": [
        "Most systems use the [IEEE 754\n",
        "standard](https://en.wikipedia.org/wiki/IEEE_754). In double precision\n",
        "(64-bit), numbers have 53 bits of precision, so integers larger than\n",
        "$2^{53}-1$ (9007199254740991) cannot be represented exactly. For\n",
        "example, adding small increments beyond this threshold reveals precision\n",
        "loss:"
      ],
      "id": "962c8501-17ba-40d2-a696-996fc4ce8a43"
    },
    {
      "cell_type": "code",
      "execution_count": 10,
      "metadata": {},
      "outputs": [
        {
          "output_type": "stream",
          "name": "stdout",
          "text": [
            "9007199254740991.0\n",
            "9007199254740992.0\n",
            "9007199254740992.0"
          ]
        }
      ],
      "source": [
        "print(9007199254740991.0)        # correct\n",
        "print(9007199254740991.0 + 1.0)  # still correct\n",
        "print(9007199254740991.0 + 2.0)  # wrong"
      ],
      "id": "ff8db693"
    },
    {
      "cell_type": "markdown",
      "metadata": {},
      "source": [
        "The hex representation makes this clear:"
      ],
      "id": "46952e86-ca92-4ade-9d02-7861032e62b1"
    },
    {
      "cell_type": "code",
      "execution_count": 11,
      "metadata": {},
      "outputs": [
        {
          "output_type": "stream",
          "name": "stdout",
          "text": [
            "0x1fffffffffffff\n",
            "0x20000000000000\n",
            "0x20000000000001"
          ]
        }
      ],
      "source": [
        "print(hex(9007199254740991))  # exact\n",
        "print(hex(9007199254740992))  # exact\n",
        "print(hex(9007199254740993))  # last bit lost"
      ],
      "id": "aa75db77"
    },
    {
      "cell_type": "markdown",
      "metadata": {},
      "source": [
        "Large numbers like:"
      ],
      "id": "9c3ef85c-8206-4e9b-a708-cde1c1c8fdac"
    },
    {
      "cell_type": "code",
      "execution_count": 12,
      "metadata": {},
      "outputs": [
        {
          "output_type": "stream",
          "name": "stdout",
          "text": [
            "0xde0b6b41e999401"
          ]
        }
      ],
      "source": [
        "print(hex(1000000002000000001))"
      ],
      "id": "d989680e"
    },
    {
      "cell_type": "markdown",
      "metadata": {},
      "source": [
        "also show lost lower bits, which is exactly what causes variance\n",
        "miscalculations.\n",
        "\n",
        "## 4 Stable Alternatives\n",
        "\n",
        "A better one-pass approach is Welford’s algorithm (Welford 1962).\n",
        "Instead of subtracting large similar terms, it incrementally updates the\n",
        "mean $\\mu_k=\\sum_{i=1}^k x_i / k$ and the squared deviations\n",
        "$S_k=\\sum_{i=1}^k (x_i - \\mu_k)^2$ to maintain numerical stability:\n",
        "\n",
        "<span id=\"eq-welford\">$$\n",
        "\\begin{align*}\n",
        "\\delta_k &= x_k - \\mu_{k-1},\\\\\n",
        "\\mu_k &= \\mu_{k-1} + \\delta_k / k,\\\\\n",
        "S_k &= S_{k-1} + \\delta_k (x_k - \\mu_k).\n",
        "\\end{align*}\n",
        " \\qquad(3)$$</span>"
      ],
      "id": "e48d5b73-6dd1-46d4-98f4-688f12739fbc"
    },
    {
      "cell_type": "code",
      "execution_count": 13,
      "metadata": {},
      "outputs": [],
      "source": [
        "def var_onepass_welford(x):\n",
        "    n, mu, sd = 0, 0, 0\n",
        "    for xi in x:\n",
        "        n += 1\n",
        "        delta = xi - mu\n",
        "        mu += delta / n\n",
        "        sd += delta * (xi - mu)\n",
        "    return sd / n"
      ],
      "id": "23562a16"
    },
    {
      "cell_type": "markdown",
      "metadata": {},
      "source": [
        "Testing again with shifts:"
      ],
      "id": "f285173b-f69c-4fdd-8026-d0334222e59c"
    },
    {
      "cell_type": "code",
      "execution_count": 14,
      "metadata": {},
      "outputs": [
        {
          "output_type": "stream",
          "name": "stdout",
          "text": [
            "Shift: 1e+03\n",
            "One-pass (Welford): 0.6666666666666666\n",
            "\n",
            "Shift: 1e+06\n",
            "One-pass (Welford): 0.6666666666666666\n",
            "\n",
            "Shift: 1e+09\n",
            "One-pass (Welford): 0.6666666666666666\n",
            "\n",
            "Shift: 1e+12\n",
            "One-pass (Welford): 0.6666666666666666\n"
          ]
        }
      ],
      "source": [
        "for shift in [1e3, 1e6, 1e9, 1e12]:\n",
        "    xt = x + shift\n",
        "    print(f\"Shift: {shift:.0e}\")\n",
        "    print(f\"One-pass (Welford): {var_onepass_welford(xt)}\\n\")"
      ],
      "id": "669d0d23"
    },
    {
      "cell_type": "markdown",
      "metadata": {},
      "source": [
        "Welford’s method remains stable even under extreme shifts. Other\n",
        "methods, such as Chan’s algorithm (T. F. Chan, Golub, and LeVeque 1982),\n",
        "are also numerically stable. Classic studies (Ling 1974; Tony F. Chan,\n",
        "Golub, and Leveque 1983) provide detailed comparisons.\n",
        "\n",
        "Chan, T. F., G. H. Golub, and R. J. LeVeque. 1982. “Updating Formulae\n",
        "and a Pairwise Algorithm for Computing Sample Variances.” In *COMPSTAT\n",
        "1982 5th Symposium Held at Toulouse 1982*, 30–41. Heidelberg:\n",
        "Physica-Verlag HD. <https://doi.org/10.1007/978-3-642-51461-6_3>.\n",
        "\n",
        "Chan, Tony F., Gene H. Golub, and Randall J. Leveque. 1983. “Algorithms\n",
        "for Computing the Sample Variance: Analysis and Recommendations.” *The\n",
        "American Statistician* 37 (3): 242–47.\n",
        "<https://doi.org/10.1080/00031305.1983.10483115>.\n",
        "\n",
        "Ling, Robert F. 1974. “Comparison of Several Algorithms for Computing\n",
        "Sample Means and Variances.” *Journal of the American Statistical\n",
        "Association* 69 (348): 859–66.\n",
        "<https://doi.org/10.1080/01621459.1974.10480219>.\n",
        "\n",
        "Welford, B. P. 1962. “Note on a Method for Calculating Corrected Sums of\n",
        "Squares and Products.” *Technometrics* 4 (3): 419–20.\n",
        "<https://doi.org/10.1080/00401706.1962.10490022>."
      ],
      "id": "e31dfb4b-f5c0-4559-84de-c6679a785077"
    }
  ],
  "nbformat": 4,
  "nbformat_minor": 5,
  "metadata": {
    "kernelspec": {
      "name": "python3",
      "display_name": "Python 3 (ipykernel)",
      "language": "python",
      "path": "/opt/miniconda3/share/jupyter/kernels/python3"
    },
    "language_info": {
      "name": "python",
      "codemirror_mode": {
        "name": "ipython",
        "version": "3"
      },
      "file_extension": ".py",
      "mimetype": "text/x-python",
      "nbconvert_exporter": "python",
      "pygments_lexer": "ipython3",
      "version": "3.12.2"
    }
  }
}