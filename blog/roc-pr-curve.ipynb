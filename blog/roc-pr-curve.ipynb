{
  "cells": [
    {
      "cell_type": "markdown",
      "metadata": {},
      "source": [
        "# ROC and PR Curves\n",
        "\n",
        "Xuefeng Xu  \n",
        "2025-07-31\n",
        "\n",
        "Receiver Operating Characteristic (ROC) and Precision–Recall (PR) curves\n",
        "are essential for evaluating classification models. They visualize\n",
        "trade-offs between True Positive Rate (TPR) and False Positive Rate\n",
        "(FPR) (ROC) or Precision and Recall (PR), offering deeper insights than\n",
        "single scalar metrics.\n",
        "\n",
        "## 1 ROC Curve\n",
        "\n",
        "For binary classification, with Positive (P) and Negative (N) classes,\n",
        "predictions are based on model scores thresholded to produce labels.\n",
        "Performance is summarized using a confusion matrix\n",
        "(<a href=\"#tbl-confusion-matrix\" class=\"quarto-xref\">Table 1</a>),\n",
        "counting True Positives (TP), False Positives (FP), True Negatives (TN),\n",
        "and False Negatives (FN).\n",
        "\n",
        "|     Total=P+N      | Predicted Pos (PP) | Predicted Neg (PN) |         |\n",
        "|:------------------:|:------------------:|:------------------:|:-------:|\n",
        "| **Actual Pos (P)** |         TP         |         FN         | P=TP+FN |\n",
        "| **Actual Neg (N)** |         FP         |         TN         | N=FP+TN |\n",
        "|                    |      PP=TP+FP      |      PN=FN+TN      |         |\n",
        "\n",
        "Table 1: The Confusion Matrix\n",
        "\n",
        "The ROC curve plots TPR vs. FPR, where:\n",
        "\n",
        "<span id=\"eq-tpr-fpr\">$$\n",
        "\\text{TPR}=\\text{TP}/\\text{P},\\quad \\text{FPR}=\\text{FP}/\\text{N}\n",
        " \\qquad(1)$$</span>\n",
        "\n",
        "A simple algorithm constructs the ROC curve: (i) Sort predictions in\n",
        "descending score order. (ii) Sweep thresholds across scores, updating TP\n",
        "and FP counts (Fawcett 2006)."
      ],
      "id": "fa0da981-8317-43b4-958c-14b3cd6f556a"
    },
    {
      "cell_type": "code",
      "execution_count": 1,
      "metadata": {},
      "outputs": [],
      "source": [
        "import numpy as np\n",
        "\n",
        "def count_fp_tp(y_true, y_score):\n",
        "    fp, tp = 0, 0\n",
        "    fps, tps, thresholds = [], [], []\n",
        "    score = np.inf\n",
        "\n",
        "    for i in np.flip(np.argsort(y_score)):\n",
        "        if y_score[i] != score:\n",
        "            fps.append(fp)\n",
        "            tps.append(tp)\n",
        "            thresholds.append(score)\n",
        "            score = y_score[i]\n",
        "\n",
        "        if y_true[i] == 1:\n",
        "            tp += 1\n",
        "        else:\n",
        "            fp += 1\n",
        "\n",
        "    fps.append(fp)\n",
        "    tps.append(tp)\n",
        "    thresholds.append(score)\n",
        "    return np.asarray(fps), np.asarray(tps), np.asarray(thresholds)"
      ],
      "id": "335a38e4"
    },
    {
      "cell_type": "code",
      "execution_count": 2,
      "metadata": {},
      "outputs": [],
      "source": [
        "def roc_curve(y_true, y_score):\n",
        "    fps, tps, thresholds = count_fp_tp(y_true, y_score)\n",
        "    fpr = fps / sum(y_true == 0)\n",
        "    tpr = tps / sum(y_true == 1)\n",
        "    return fpr, tpr, thresholds"
      ],
      "id": "10c0733c"
    },
    {
      "cell_type": "markdown",
      "metadata": {},
      "source": [
        "The ROC curve is always monotonically non-decreasing, starting at\n",
        "$(0, 0)$ for the highest threshold and ending at $(1, 1)$ for the lowest\n",
        "threshold. Points are connected using linear interpolation. A random\n",
        "classifier lies along $y=x$, while curves closer to the top-left\n",
        "indicate better performance."
      ],
      "id": "45fa571a-4cb9-4c9e-9cdf-cd26130edb9a"
    },
    {
      "cell_type": "code",
      "execution_count": 3,
      "metadata": {},
      "outputs": [],
      "source": [
        "import matplotlib.pyplot as plt\n",
        "\n",
        "def plot_curve(x, y, curve: str, pos_frac=None, drawstyle=\"default\", ax=None):\n",
        "    if ax is None:\n",
        "        _, ax = plt.subplots(figsize=(3, 3))\n",
        "\n",
        "    name = f\"{curve} curve\"\n",
        "    ax.plot(x, y, \"x-\", c=\"C0\", label=name, drawstyle=drawstyle)\n",
        "    ax.set_title(name)\n",
        "\n",
        "    ax.set_aspect(\"equal\")\n",
        "    ax.set_xlim(-0.01, 1.01)\n",
        "    ax.set_ylim(-0.01, 1.01)\n",
        "    \n",
        "    chance = {\n",
        "        \"label\": \"Chance level\",\n",
        "        \"color\": \"k\",\n",
        "        \"linestyle\": \"--\",\n",
        "    }\n",
        "    if curve == \"ROC\":\n",
        "        ax.plot([0, 1], [0, 1], **chance)\n",
        "        ax.set_xlabel(\"FPR\")\n",
        "        ax.set_ylabel(\"TPR\")\n",
        "        ax.legend(loc=\"lower right\")\n",
        "    elif curve == \"PR\":  # curve == \"PR\":\n",
        "        if pos_frac is not None:\n",
        "            ax.plot([0, 1], [pos_frac, pos_frac], **chance)\n",
        "        ax.set_xlabel(\"Recall\")\n",
        "        ax.set_ylabel(\"Precision\")\n",
        "        ax.legend(loc=\"lower left\")\n",
        "    elif curve == \"PRG\":\n",
        "        ax.set_xlabel(\"Recall Gain\")\n",
        "        ax.set_ylabel(\"Precision Gain\")\n",
        "        ax.legend(loc=\"lower left\")\n",
        "    else:\n",
        "        raise ValueError(f\"Unknown curve type: {curve}\")"
      ],
      "id": "0e383127"
    },
    {
      "cell_type": "code",
      "execution_count": 4,
      "metadata": {},
      "outputs": [
        {
          "output_type": "display_data",
          "metadata": {},
          "data": {}
        }
      ],
      "source": [
        "y_true = np.array([1, 1, 0, 1, 1, 1, 0, 0, 1, 0, 1, 0, 1, 0, 0, 0, 1, 0, 1, 0])\n",
        "y_score = np.array([\n",
        "    .9, .8, .7, .6, .55, .54, .53, .52, .51, .505,\n",
        "    .4, .39, .38, .37, .36, .35, .34, .33, .3, .1\n",
        "])\n",
        "\n",
        "fpr, tpr, _ = roc_curve(y_true, y_score)\n",
        "plot_curve(fpr, tpr, \"ROC\")"
      ],
      "id": "cell-fig-roc"
    },
    {
      "cell_type": "markdown",
      "metadata": {},
      "source": [
        "## 2 ROC Convex Hull\n",
        "\n",
        "The ROC [Convex Hull](https://en.wikipedia.org/wiki/Convex_hull) (ROCCH)\n",
        "highlights potentially optimal performance of a classifier (or a set of\n",
        "classifiers) by connecting upper boundary points (Provost and Fawcett\n",
        "2001). It can be computed via algorithms like the [Monotone chain\n",
        "algorithm](https://en.wikibooks.org/wiki/Algorithm_Implementation/Geometry/Convex_hull/Monotone_chain#Python)."
      ],
      "id": "4fd05a9f-8785-4015-9008-c1b322ef80df"
    },
    {
      "cell_type": "code",
      "execution_count": 5,
      "metadata": {},
      "outputs": [],
      "source": [
        "def convex_hull(points):\n",
        "    points = sorted(set(points))\n",
        "\n",
        "    def cross(o, a, b):\n",
        "        return (a[0] - o[0]) * (b[1] - o[1]) - (a[1] - o[1]) * (b[0] - o[0])\n",
        "\n",
        "    # Build upper hull\n",
        "    upper = []\n",
        "    for p in reversed(points):\n",
        "        while len(upper) >= 2 and cross(upper[-2], upper[-1], p) <= 0:\n",
        "            upper.pop()\n",
        "        upper.append(p)\n",
        "    \n",
        "    return upper"
      ],
      "id": "4e0d8cfa"
    },
    {
      "cell_type": "markdown",
      "metadata": {},
      "source": [
        "``` python\n",
        "rocch = convex_hull(zip(fpr, tpr))\n",
        "\n",
        "rocch = np.array(rocch)\n",
        "fpr_ch, tpr_ch = rocch[:, 0], rocch[:, 1]\n",
        "\n",
        "fig, ax = plt.subplots(figsize=(3, 3))\n",
        "ax.plot(fpr_ch, tpr_ch, 'C1-.', label=\"ROCCH\")\n",
        "plot_curve(fpr, tpr, \"ROC\", ax=ax)\n",
        "```\n",
        "\n",
        "<figure id=\"fig-rocch\">\n",
        "<img\n",
        "src=\"attachment:roc-pr-curve_files/figure-ipynb/fig-rocch-output-1.png\" />\n",
        "<figcaption>Figure 2</figcaption>\n",
        "</figure>\n",
        "\n",
        "## 3 PR Curve\n",
        "\n",
        "PR curves plot Precision vs. Recall. Recall equals TPR, while Precision\n",
        "is:\n",
        "\n",
        "<span id=\"eq-prec\">$$\n",
        "\\text{Prec}=\\frac{\\text{TP}}{\\text{TP}+\\text{FP}}\n",
        " \\qquad(2)$$</span>\n",
        "\n",
        "PR curves start at $(0, 1)$ and end at\n",
        "$(1, \\frac{\\text{P}}{\\text{P}+\\text{N}})$, where the endpoint reflects\n",
        "the proportion of positive samples. Because Precision depends on both TP\n",
        "and FP, the PR curve is non-monotonic and can decrease as Recall\n",
        "increases. Moreover, it is highly influenced by class imbalance\n",
        "(Williams 2021). For a random classifier, the PR curve is a horizontal\n",
        "line at $y = \\frac{\\text{P}}{\\text{P}+\\text{N}}$, whereas curves closer\n",
        "to the top-right indicate stronger performance."
      ],
      "attachments": {
        "roc-pr-curve_files/figure-ipynb/fig-rocch-output-1.png": {
          "image/png": "[encoded data removed]"
        }
      },
      "id": "e3a18d64-8915-43b0-bfe1-90caa369caa2"
    },
    {
      "cell_type": "code",
      "execution_count": 7,
      "metadata": {},
      "outputs": [],
      "source": [
        "def pr_curve(y_true, y_score):\n",
        "    fps, tps, thresholds = count_fp_tp(y_true, y_score)\n",
        "\n",
        "    pps = fps + tps\n",
        "    precision = np.ones_like(tps, dtype=np.float64)\n",
        "    np.divide(tps, pps, out=precision, where=(pps != 0))\n",
        "\n",
        "    recall = tps / sum(y_true == 1)\n",
        "    return np.flip(precision), np.flip(recall), np.flip(thresholds)"
      ],
      "id": "c0f513a4"
    },
    {
      "cell_type": "markdown",
      "metadata": {},
      "source": [
        "Although ROC and PR curves are mathematically related, linear\n",
        "interpolation is incorrect for PR curves, as it yields overly optimistic\n",
        "estimates of performance (Davis and Goadrich 2006). Precision does not\n",
        "necessarily vary linearly with Recall, so naive interpolation\n",
        "misrepresents true model behavior.\n",
        "\n",
        "To illustrate this, we convert the ROC Convex Hull (ROCCH) into PR\n",
        "space, treating it as the potential optimal PR curve. Using\n",
        "<a href=\"#eq-prec-tpr-fpr\" class=\"quarto-xref\">Equation 3</a>, we\n",
        "express Precision in terms of TPR and FPR:\n",
        "\n",
        "<span id=\"eq-prec-tpr-fpr\">$$\n",
        "\\text{Prec}=\\frac{\\text{P}\\cdot\\text{TPR}}{\\text{P}\\cdot\\text{TPR}+\\text{N}\\cdot\\text{FPR}}\n",
        "=\\frac{1}{1+\\frac{\\text{N}}{\\text{P}}\\cdot\\frac{\\text{FPR}}{\\text{TPR}}}\n",
        " \\qquad(3)$$</span>"
      ],
      "id": "235eb5ea-9176-4411-8b8b-88706f80f71d"
    },
    {
      "cell_type": "code",
      "execution_count": 8,
      "metadata": {},
      "outputs": [],
      "source": [
        "from scipy.interpolate import interp1d\n",
        "\n",
        "def pr_from_roc(fpr, tpr, neg_to_pos):\n",
        "    fpr_tpr_func = interp1d(tpr, fpr, bounds_error=False, fill_value=(0, 1))\n",
        "\n",
        "    def prec_func(tpr):\n",
        "        fpr = fpr_tpr_func(tpr)\n",
        "        fpr_to_tpr = np.zeros_like(tpr, dtype=np.float64)\n",
        "        np.divide(fpr, tpr, out=fpr_to_tpr, where=(tpr != 0))\n",
        "        prec = 1 / (1 + neg_to_pos * fpr_to_tpr)\n",
        "        return prec\n",
        "\n",
        "    return prec_func"
      ],
      "id": "2ad28d45"
    },
    {
      "cell_type": "code",
      "execution_count": 9,
      "metadata": {},
      "outputs": [
        {
          "output_type": "display_data",
          "metadata": {},
          "data": {}
        }
      ],
      "source": [
        "neg_to_pos = sum(y_true == 0) / sum(y_true == 1)\n",
        "prec_ch_func = pr_from_roc(fpr_ch, tpr_ch, neg_to_pos)\n",
        "\n",
        "fig, ax = plt.subplots(figsize=(3, 3))\n",
        "ax.plot(tpr_ch, prec_ch_func(tpr_ch), 'C2:', label=\"Linear interp ROCCH\")\n",
        "\n",
        "x = np.linspace(0, 1, 100)\n",
        "ax.plot(x, prec_ch_func(x), 'C1-.', label=\"ROCCH\")\n",
        "\n",
        "precision, recall, _ = pr_curve(y_true, y_score)\n",
        "ax.scatter(recall, precision, c=\"C0\", marker=\"x\", label=\"PR points\")\n",
        "\n",
        "ax.set_aspect(\"equal\")\n",
        "ax.set_xlim(-0.01, 1.01)\n",
        "ax.set_ylim(-0.01, 1.01)\n",
        "ax.set_xlabel(\"Recall\")\n",
        "ax.set_ylabel(\"Precision\")\n",
        "ax.legend(loc=\"lower left\")"
      ],
      "id": "cell-fig-pr-interp"
    },
    {
      "cell_type": "markdown",
      "metadata": {},
      "source": [
        "The converted ROCCH dominates the PR space but is clearly non-linear,\n",
        "lying beneath its own linear interpolation (dotted line). This confirms\n",
        "that PR curves cannot be linearly interpolated. Scikit-learn’s\n",
        "[PrecisionRecallDisplay](https://scikit-learn.org/stable/modules/generated/sklearn.metrics.PrecisionRecallDisplay.html)\n",
        "instead uses step-wise interpolation, consistent with\n",
        "[average_precision_score](https://scikit-learn.org/stable/modules/generated/sklearn.metrics.average_precision_score.html).\n",
        "This ensures that the area under the PR curve equals the average\n",
        "precision."
      ],
      "id": "594cc8f6-9d63-467d-8d3a-ca70eb75e2b0"
    },
    {
      "cell_type": "code",
      "execution_count": 10,
      "metadata": {},
      "outputs": [
        {
          "output_type": "display_data",
          "metadata": {},
          "data": {}
        }
      ],
      "source": [
        "pos_frac = sum(y_true == 1) / len(y_true)\n",
        "plot_curve(recall, precision, \"PR\", pos_frac, drawstyle=\"steps-post\")"
      ],
      "id": "cell-fig-pr-sklearn"
    },
    {
      "cell_type": "markdown",
      "metadata": {},
      "source": [
        "## 4 PRG Curve\n",
        "\n",
        "ROC curves benefit from linear interpolation and universal baselines,\n",
        "whereas PR curves lack these properties. To address this, Flach and Kull\n",
        "(2015) proposed the Precision–Recall-Gain (PRG) curve, which transforms\n",
        "Precision and Recall into Gains and plots these Precision Gain and\n",
        "Recall Gain within the unit square:\n",
        "\n",
        "<span id=\"eq-prec-rec-gain\">$$\n",
        "\\text{PrecG}=\\frac{\\text{Prec}-\\pi}{(1-\\pi)\\text{Prec}},\\quad\n",
        "\\text{RecG}=\\frac{\\text{Rec}-\\pi}{(1-\\pi)\\text{Rec}}\n",
        " \\qquad(4)$$</span>\n",
        "\n",
        "where $\\pi=\\frac{\\text{P}}{\\text{P}+\\text{N}}$ is the positive class\n",
        "fraction. Notably, Gains can be negative, and such points are typically\n",
        "omitted from the PRG curve."
      ],
      "id": "d1717037-40f4-45ec-8c27-70d91f498dce"
    },
    {
      "cell_type": "code",
      "execution_count": 11,
      "metadata": {},
      "outputs": [],
      "source": [
        "def prg_curve(y_true, y_score):\n",
        "    prec, rec, thresholds = pr_curve(y_true, y_score)\n",
        "    pos_frac = sum(y_true == 0) / len(y_true)\n",
        "\n",
        "    # Remove negative gains\n",
        "    mask = (rec >= pos_frac) & (prec >= pos_frac)\n",
        "    prec = prec[mask]\n",
        "    rec = rec[mask]\n",
        "\n",
        "    prec_gain = (prec - pos_frac) / (1 - pos_frac) / prec\n",
        "    rec_gain = (rec - pos_frac) / (1 - pos_frac) / rec\n",
        "    return prec_gain, rec_gain, thresholds"
      ],
      "id": "e6925f7e"
    },
    {
      "cell_type": "code",
      "execution_count": 12,
      "metadata": {},
      "outputs": [
        {
          "output_type": "display_data",
          "metadata": {},
          "data": {}
        }
      ],
      "source": [
        "prec_gain, rec_gain, _ = prg_curve(y_true, y_score)\n",
        "plot_curve(rec_gain, prec_gain, \"PRG\")"
      ],
      "id": "cell-fig-prg"
    },
    {
      "cell_type": "markdown",
      "metadata": {},
      "source": [
        "Davis, Jesse, and Mark Goadrich. 2006. “The Relationship Between\n",
        "Precision-Recall and ROC Curves.” In *Proceedings of the 23rd\n",
        "International Conference on Machine Learning*, 233–40. ICML ’06. New\n",
        "York, NY, USA: Association for Computing Machinery.\n",
        "<https://doi.org/10.1145/1143844.1143874>.\n",
        "\n",
        "Fawcett, Tom. 2006. “An Introduction to ROC Analysis.” *Pattern\n",
        "Recognition Letters* 27 (8): 861–74.\n",
        "<https://doi.org/10.1016/j.patrec.2005.10.010>.\n",
        "\n",
        "Flach, Peter, and Meelis Kull. 2015. “Precision-Recall-Gain Curves: PR\n",
        "Analysis Done Right.” In *Advances in Neural Information Processing\n",
        "Systems*. Vol. 28. Curran Associates, Inc.\n",
        "<https://papers.nips.cc/paper/5867-precision-recall-gain-curves-pr-analysis-done-right>.\n",
        "\n",
        "Provost, Foster J., and Tom Fawcett. 2001. “Robust Classification for\n",
        "Imprecise Environments.” *Machine Learning* 42 (3): 203–31.\n",
        "<https://doi.org/10.1023/A:1007601015854>.\n",
        "\n",
        "Williams, Christopher K. I. 2021. “The Effect of Class Imbalance on\n",
        "Precision-Recall Curves.” *Neural Computation* 33 (4): 853–57.\n",
        "<https://doi.org/10.1162/neco_a_01362>."
      ],
      "id": "88ae3c22-aade-4723-9684-dc14dd81125d"
    }
  ],
  "nbformat": 4,
  "nbformat_minor": 5,
  "metadata": {
    "kernelspec": {
      "name": "python3",
      "display_name": "Python 3 (ipykernel)",
      "language": "python",
      "path": "/opt/miniconda3/share/jupyter/kernels/python3"
    },
    "language_info": {
      "name": "python",
      "codemirror_mode": {
        "name": "ipython",
        "version": "3"
      },
      "file_extension": ".py",
      "mimetype": "text/x-python",
      "nbconvert_exporter": "python",
      "pygments_lexer": "ipython3",
      "version": "3.12.2"
    }
  }
}